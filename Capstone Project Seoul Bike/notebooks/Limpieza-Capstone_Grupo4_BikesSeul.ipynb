{
 "cells": [
  {
   "cell_type": "markdown",
   "id": "9cafa2df",
   "metadata": {},
   "source": [
    "### Importando librerías necesarias"
   ]
  },
  {
   "cell_type": "code",
   "execution_count": null,
   "id": "ccbe6928",
   "metadata": {},
   "outputs": [],
   "source": [
    "#!pip install missingno"
   ]
  },
  {
   "cell_type": "code",
   "execution_count": null,
   "id": "d07282dd",
   "metadata": {},
   "outputs": [],
   "source": [
    "import pandas as pd\n",
    "import numpy as np\n",
    "import matplotlib.pyplot as plt\n",
    "import seaborn as sns\n",
    "\n",
    "import warnings\n",
    "warnings.filterwarnings('ignore')\n",
    "\n",
    "import missingno as msno\n",
    "\n",
    "import scipy.stats as stats"
   ]
  },
  {
   "cell_type": "markdown",
   "id": "afe66511",
   "metadata": {},
   "source": [
    "### Estructura de datos - Dataset Seoul Bike\n",
    "\n",
    "*  Date - Día donde se rentaron bicicletas \n",
    "*  Rented Bike count - Cantidad de bicicletas arrendadas en cada hora\n",
    "*  Hour - Hora del día (en formato 0 a 24)\n",
    "*  Temperature - Temperatura en Celsius\n",
    "*  Humidity - Porcentaje de humedad\n",
    "*  Windspeed - Velocidad del viento en m/s\n",
    "*  Visibility - Visibilidad atmosférica dentro de un rango de 10m\n",
    "*  Dew point temperature - Temperatura del punto de rocío en Celsius\n",
    "*  Solar radiation - Radiación Solar MJ/m2\n",
    "*  Rainfall - mm de lluvia\n",
    "*  Snowfall - cm de nieve caída \n",
    "*  Seasons - Temporada del año en inglés (Verano, Invierno, Otoño, Primavera)\n",
    "*  Holiday - Flag representando de si es un Festivo o no\n",
    "*  Functional Day - Flag mostrando si es un día funcional o no"
   ]
  },
  {
   "cell_type": "code",
   "execution_count": null,
   "id": "25b23a97",
   "metadata": {},
   "outputs": [],
   "source": [
    "df = pd.read_csv('https://raw.githubusercontent.com/patoram123/Proyecto_Visualizacion/main/datasets/public_bikes_2018/seul/SeoulBikeData.csv'\n",
    "                ,encoding='unicode escape')\n",
    "\n",
    "df['Date'] = pd.to_datetime(df['Date'],format=\"%d/%m/%Y\")\n",
    "\n",
    "df.head()"
   ]
  },
  {
   "cell_type": "markdown",
   "id": "39756559",
   "metadata": {},
   "source": [
    "### Revisando cantidad de valores nulos, unicos, duplicados y tipos de datos"
   ]
  },
  {
   "cell_type": "code",
   "execution_count": null,
   "id": "c8ec5cdb",
   "metadata": {},
   "outputs": [],
   "source": [
    "def datainfo(data):\n",
    "    print(f\"Cantidad de columnas duplicadas: {len(data[data.duplicated()])}\")\n",
    "    temp_ps = pd.DataFrame(index=data.columns)\n",
    "    temp_ps['DataType'] = data.dtypes\n",
    "    temp_ps[\"Non-null_Values\"] = data.count()\n",
    "    temp_ps['Unique_Values'] = data.nunique()\n",
    "    temp_ps['NaN_Values'] = data.isnull().sum()\n",
    "    return temp_ps"
   ]
  },
  {
   "cell_type": "code",
   "execution_count": null,
   "id": "17742c40",
   "metadata": {},
   "outputs": [],
   "source": [
    "datainfo(df)"
   ]
  },
  {
   "cell_type": "markdown",
   "id": "605184ef",
   "metadata": {},
   "source": [
    "* De aquí podemos notar como la mayoría de las variables son númericas y las variables categóricas están mapeadas como de tipo Object. No tenemos nulos y las variables categoricas cumplen lo esperado en la definición de datos."
   ]
  },
  {
   "cell_type": "markdown",
   "id": "a66a29fc",
   "metadata": {},
   "source": [
    "#### Gráfico de missing values"
   ]
  },
  {
   "cell_type": "code",
   "execution_count": null,
   "id": "25b3f073",
   "metadata": {
    "scrolled": false
   },
   "outputs": [],
   "source": [
    "msno.matrix(df,labels=[df.columns],figsize=(30,16),fontsize=12)"
   ]
  },
  {
   "cell_type": "markdown",
   "id": "05dba428",
   "metadata": {},
   "source": [
    "### Correlación de Variables númericas"
   ]
  },
  {
   "cell_type": "code",
   "execution_count": null,
   "id": "31a16ce7",
   "metadata": {},
   "outputs": [],
   "source": [
    "#matriz de correlacion \n",
    "corrMatrix = df.corr()\n",
    "plt.rcParams['axes.facecolor'] = 'white'\n",
    "\n",
    "mask = np.triu(np.ones_like(corrMatrix, dtype=bool))\n",
    "\n",
    "cmap = sns.diverging_palette(250, 15, s=75, l=40,\n",
    "                           n=9, center=\"light\", as_cmap=True)\n",
    "\n",
    "fig, ax = plt.subplots(figsize = (16, 8))\n",
    "\n",
    "sns.heatmap(corrMatrix, mask=mask, center=1, annot=True,\n",
    "            fmt='.2f', square=True, cmap=cmap)\n",
    "\n",
    "sns.set(font_scale=0.8)\n",
    "\n",
    "plt.show()"
   ]
  },
  {
   "cell_type": "code",
   "execution_count": null,
   "id": "48664f8c",
   "metadata": {},
   "outputs": [],
   "source": [
    "print(\"\\033[1m Correlación entre Temperature(°C) y Dew point temperature(°C)\")\n",
    "\n",
    "sns.regplot(x = \"Temperature(°C)\", \n",
    "            y = \"Dew point temperature(°C)\"  , \n",
    "            data = df,\n",
    "            line_kws={\"color\": \"red\"}) \n",
    "plt.show()"
   ]
  },
  {
   "cell_type": "markdown",
   "id": "ac7d6540",
   "metadata": {},
   "source": [
    "* Considerando la alta correlación que existe entre las variables `Dew point temperature(°C)` y `Temperature(°C)` se decide eliminar la primera"
   ]
  },
  {
   "cell_type": "code",
   "execution_count": null,
   "id": "055fd2a9",
   "metadata": {},
   "outputs": [],
   "source": [
    "df.drop(['Dew point temperature(°C)'], axis = 1, inplace=True)\n",
    "df.head(1)"
   ]
  },
  {
   "cell_type": "markdown",
   "id": "1646f85c",
   "metadata": {},
   "source": [
    "### Creación y eliminación de columnas (cont.)\n",
    "\n",
    "* La columna `Functioning Day`, que toma valores Yes o No, representa si ese día el servicio de arriendo de bicicletas estuvo operativo o no. Para los días no funcionales, la variable `Rented Bike Count` tiene solo valores 0 (cero), por lo que se decidió eliminar esas filas y por lo mismo, la columna `Functioning Day` que deja de tener valor.\n",
    "\n",
    "\n",
    "* Para la variable fecha se aprovechará de obtener valor al separar en nuevas variables: Día y Mes. Elimando la columna `Date` del Dataset"
   ]
  },
  {
   "cell_type": "code",
   "execution_count": null,
   "id": "887f8b70",
   "metadata": {},
   "outputs": [],
   "source": [
    "print(\"******* Functioning Day *******\")\n",
    "print(df['Functioning Day'].value_counts())\n",
    "\n",
    "print(\"\\n\\n******* Rented Bikes when Functioning Day is No *******\")\n",
    "print(df[df['Functioning Day']==\"No\"]['Rented Bike Count'].value_counts())"
   ]
  },
  {
   "cell_type": "code",
   "execution_count": null,
   "id": "c3339104",
   "metadata": {},
   "outputs": [],
   "source": [
    "# Quitando filas donde Functioning Day is No\n",
    "df = df[df['Functioning Day']==\"Yes\"].reset_index(drop=True)\n",
    "print(df['Functioning Day'].value_counts())\n",
    "\n",
    "# Quitando la columna fecha ya que no aportará al modelo\n",
    "df.drop(columns=['Functioning Day'],inplace=True)"
   ]
  },
  {
   "cell_type": "code",
   "execution_count": null,
   "id": "cda63114",
   "metadata": {},
   "outputs": [],
   "source": [
    "# Creando variables de día y mes\n",
    "df['Day'] = df['Date'].dt.day\n",
    "df['Month'] = df['Date'].dt.month\n",
    "\n",
    "# Quitando la columna fecha ya que no aportará al modelo\n",
    "df.drop(columns=['Date'],inplace=True)\n",
    "\n",
    "df.head(1)"
   ]
  },
  {
   "cell_type": "markdown",
   "id": "e37c7c21",
   "metadata": {},
   "source": [
    "### Box plot de Variables categóricas vs Variable dependiente\n",
    "\n",
    "* En los box plots se puede apreciar la diferencia de las medianas de la variable objetivo respecto a la estación y al tipo de día. En invierno la mediana del arriendo de bicicletas es casi cinco veces menor que en verano, y en días festivos la mediana es casi cuatro veces inferior que en un día normal."
   ]
  },
  {
   "cell_type": "code",
   "execution_count": null,
   "id": "cc6ef742",
   "metadata": {},
   "outputs": [],
   "source": [
    "#Box plot de cada variable independiente v/s la variable dependiente\n",
    "columns=['Seasons','Holiday']\n",
    "\n",
    "fig=plt.figure(figsize=(20,20))\n",
    "for i,cols in enumerate(columns): \n",
    "    ax=fig.add_subplot(3,3,i+1)\n",
    "    sns.boxplot(x=cols,y='Rented Bike Count', data=df,ax=ax)"
   ]
  },
  {
   "cell_type": "markdown",
   "id": "c6f2b102",
   "metadata": {},
   "source": [
    "### Distribución de los datos"
   ]
  },
  {
   "cell_type": "code",
   "execution_count": null,
   "id": "6b1b10f8",
   "metadata": {},
   "outputs": [],
   "source": [
    "df.describe()"
   ]
  },
  {
   "cell_type": "code",
   "execution_count": null,
   "id": "7a6ee2f0",
   "metadata": {},
   "outputs": [],
   "source": [
    "plt.figure(figsize=(12, 12))\n",
    "for i, col in enumerate(df.select_dtypes(include=['float64','int64']).columns):\n",
    "    plt.rcParams['axes.facecolor'] = 'black'\n",
    "    ax = plt.subplot(6,2, i+1)\n",
    "    sns.histplot(data=df, x=col, ax=ax,color='red',kde=True)\n",
    "plt.suptitle('Data distribution of continuous variables')\n",
    "plt.tight_layout()"
   ]
  },
  {
   "cell_type": "code",
   "execution_count": null,
   "id": "c4a8b54e",
   "metadata": {},
   "outputs": [],
   "source": [
    "# Gráfico que permite visualizar la distribución y su cercanía con \n",
    "# la normal a través del QQ plot\n",
    "def plotvariable(df,variable):\n",
    "    plt.figure(figsize=(10,5))\n",
    "    plt.rcParams['axes.facecolor'] = 'white'\n",
    "    plt.subplot(1,2,1)  \n",
    "    df[variable].hist(bins=30)\n",
    "    \n",
    "    ##QQ plot\n",
    "    plt.subplot(1,2,2)\n",
    "    stats.probplot(df[variable], dist='norm',plot=plt)\n",
    "    plt.show()"
   ]
  },
  {
   "cell_type": "code",
   "execution_count": null,
   "id": "d8284251",
   "metadata": {},
   "outputs": [],
   "source": [
    "plotvariable(df,'Rented Bike Count')"
   ]
  },
  {
   "cell_type": "code",
   "execution_count": null,
   "id": "68989ce2",
   "metadata": {},
   "outputs": [],
   "source": [
    "plotvariable(df,'Wind speed (m/s)')"
   ]
  },
  {
   "cell_type": "markdown",
   "id": "216c0f1e",
   "metadata": {},
   "source": [
    "### Normalizando variables\n",
    "\n",
    "* Al observar las distribuciones, podemos notar como algunas variables no tienen una distribución cercana a la normal. Existen distintos metodos que nos pueden ayudar a normalizar los datos, entre ellos aplicar transformaciones de potencia. Para el caso de la Variable `Rented Bike Count` y `Wind speed (m/s)`, aplicar una función cuadrática (sqrt) nos deja las distribuciones muy cercanas a la Normal."
   ]
  },
  {
   "cell_type": "code",
   "execution_count": null,
   "id": "ab2fcc5c",
   "metadata": {},
   "outputs": [],
   "source": [
    "df_norm = df.copy()"
   ]
  },
  {
   "cell_type": "code",
   "execution_count": null,
   "id": "8714c7c3",
   "metadata": {},
   "outputs": [],
   "source": [
    "df_norm['Rented Bike Count'] = np.sqrt(df_norm['Rented Bike Count'])\n",
    "plotvariable(df_norm,'Rented Bike Count')"
   ]
  },
  {
   "cell_type": "code",
   "execution_count": null,
   "id": "8c7d89f0",
   "metadata": {},
   "outputs": [],
   "source": [
    "df_norm['Wind speed (m/s)']=np.sqrt(df_norm['Wind speed (m/s)'])\n",
    "\n",
    "plotvariable(df_norm,'Wind speed (m/s)')"
   ]
  },
  {
   "cell_type": "markdown",
   "id": "1486dc2a",
   "metadata": {},
   "source": [
    "### One Hot Encoding para Variables Categoricas\n",
    "\n",
    "* Para obtener valores numericos de las variables categoricas, se decidió transformarlas usando \"Dummyficación\" o One Hot Encoding, lo cual implica crear tantas columnas como categorías existan y asignar un 1 donde la variable tome el valor que corresponda."
   ]
  },
  {
   "cell_type": "code",
   "execution_count": null,
   "id": "b7874047",
   "metadata": {},
   "outputs": [],
   "source": [
    "df_norm = pd.get_dummies(df_norm, columns=['Seasons', 'Holiday'], drop_first=True)\n",
    "df_norm.head()"
   ]
  },
  {
   "cell_type": "markdown",
   "id": "56b6a2a7",
   "metadata": {},
   "source": [
    "### Exportando Dataset final"
   ]
  },
  {
   "cell_type": "code",
   "execution_count": null,
   "id": "e1d7a91d",
   "metadata": {},
   "outputs": [],
   "source": [
    "df_norm.to_csv(\"../data/processed/Clean_SeoulBikeData.csv\")"
   ]
  },
  {
   "cell_type": "code",
   "execution_count": null,
   "id": "cb07c7fc",
   "metadata": {},
   "outputs": [],
   "source": []
  }
 ],
 "metadata": {
  "kernelspec": {
   "display_name": "Python 3 (ipykernel)",
   "language": "python",
   "name": "python3"
  },
  "language_info": {
   "codemirror_mode": {
    "name": "ipython",
    "version": 3
   },
   "file_extension": ".py",
   "mimetype": "text/x-python",
   "name": "python",
   "nbconvert_exporter": "python",
   "pygments_lexer": "ipython3",
   "version": "3.9.12"
  }
 },
 "nbformat": 4,
 "nbformat_minor": 5
}
